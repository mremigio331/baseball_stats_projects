{
 "cells": [
  {
   "cell_type": "markdown",
   "id": "1e5eac7a-b12c-454a-a9ca-ca36e206d462",
   "metadata": {},
   "source": [
    "# Yankees Hits Since The All Star Break"
   ]
  },
  {
   "cell_type": "markdown",
   "id": "a1ea2195-7682-42b5-8fe5-305488b27f94",
   "metadata": {},
   "source": [
    "### Sometimes as fans we come up with conclusions with no statisical facts, just a feeling. With my New York Yankees having a historic slump, my father and I were convineced that the Yankees were mostly getting base hits with two outs and no body on base since the All Star Break. So I wanted to put our theory to the test. Today we will be pulling data from every hit the Yankees have had since the All Star Break to see if we are right or wrong. This is a great exercise in learning how to use APIs, functions, dicts, pandas, and some Plotly. Jupyter doesn't have spell check so I apologize in advance for any spelling erros. "
   ]
  },
  {
   "cell_type": "markdown",
   "id": "ff0d3c1b-f7ef-49cc-8d02-58f7261bc21c",
   "metadata": {},
   "source": [
    "# First need to import the neccesary libraries"
   ]
  },
  {
   "cell_type": "code",
   "execution_count": 61,
   "id": "760c35ff-be9f-443c-8055-ba6ef7ffa8aa",
   "metadata": {},
   "outputs": [],
   "source": [
    "import requests\n",
    "import json\n",
    "from datetime import date, timedelta\n",
    "import pandas as pd\n",
    "import plotly.graph_objects as go"
   ]
  },
  {
   "cell_type": "markdown",
   "id": "d6949142-c763-4781-9f25-f71445d4dcdc",
   "metadata": {},
   "source": [
    "## Since it's the Yankees we are looking at we are going to make a global variable called my_team and make it equal to the New York Yankees. But if you want to find some similar statistics for another team just swap out the Yankees with another team. Everything will still work."
   ]
  },
  {
   "cell_type": "code",
   "execution_count": 10,
   "id": "ac6cb6b4-601e-41a0-9018-95db5c2863ef",
   "metadata": {},
   "outputs": [],
   "source": [
    "global my_team\n",
    "my_team = 'New York Yankees'"
   ]
  },
  {
   "cell_type": "markdown",
   "id": "19a0d619-f8b0-41ed-af8a-09e601a6c932",
   "metadata": {},
   "source": [
    "## Next we are going to create a function that will allow us to pull games from a specific date range. We are creating a function so we can call this in the future"
   ]
  },
  {
   "cell_type": "code",
   "execution_count": 11,
   "id": "9607d223-c3eb-44d2-a42d-122ac79701b4",
   "metadata": {},
   "outputs": [],
   "source": [
    "def schedule_grab(start_date,end_date):\n",
    "    link = 'http://statsapi.mlb.com/api/v1/schedule/games/?sportId=1&startDate=' + start_date + '&endDate=' + end_date\n",
    "    response = requests.get(link)\n",
    "    days_game = response.json()\n",
    "    return days_game"
   ]
  },
  {
   "cell_type": "markdown",
   "id": "e7df20f2-d9d1-43ab-90f2-d43da893a40e",
   "metadata": {},
   "source": [
    "## We are interested in the games from the All Star Break. To do that we will need to use datetime to get todays date, subtract a day to make sure we are only getting games that have finished, format it in a way that the api likes, and finally run out schedule grab function"
   ]
  },
  {
   "cell_type": "code",
   "execution_count": 12,
   "id": "f39b3c92-4268-439f-b3a5-0ae6073a1951",
   "metadata": {},
   "outputs": [],
   "source": [
    "yesterday = date.today() - timedelta(days=1)\n",
    "yesterday = str(yesterday.strftime('%Y-%m-%d'))"
   ]
  },
  {
   "cell_type": "code",
   "execution_count": 13,
   "id": "84b853eb-3697-4b13-b70f-15a9f7233376",
   "metadata": {},
   "outputs": [],
   "source": [
    "all_star_break = '2022-7-19'"
   ]
  },
  {
   "cell_type": "code",
   "execution_count": 14,
   "id": "86a422be-00b8-45ca-b38c-9cd126ccf250",
   "metadata": {},
   "outputs": [],
   "source": [
    "days_game = schedule_grab(all_star_break,yesterday)"
   ]
  },
  {
   "cell_type": "code",
   "execution_count": 15,
   "id": "397e159e-ed28-4de6-9a59-2a6829d9d9ae",
   "metadata": {},
   "outputs": [],
   "source": [
    "#days_game"
   ]
  },
  {
   "cell_type": "markdown",
   "id": "9f4bc954-9554-488b-a952-0c39c28f116f",
   "metadata": {},
   "source": [
    "## Now we want to create a function that will return links to all the individual games the yankees have played. This is something we may use in the future so we will make a function that loops through our schedule and returns a list of game links. To confirm we are locating the correct games we are going to return a list of the links and a list of the teams who played in those games. If all went right all the games should have the Yankees in it. "
   ]
  },
  {
   "cell_type": "code",
   "execution_count": 16,
   "id": "0708f6d2-9b77-49a7-b8d9-2469b89ea16c",
   "metadata": {},
   "outputs": [],
   "source": [
    "def game_links_grab(schedule):\n",
    "    game_links = []\n",
    "    game_teams = []\n",
    "    \n",
    "    for x in schedule['dates']:\n",
    "    \n",
    "        for y in x['games']:\n",
    "\n",
    "            home_team = y['teams']['home']['team']['name']\n",
    "            away_team = y['teams']['away']['team']['name']\n",
    "\n",
    "            if home_team == my_team or away_team == my_team:\n",
    "                link = y['link']\n",
    "                teams = away_team + ' vs ' + home_team\n",
    "                game_teams.append(teams)\n",
    "                game_links.append(link)\n",
    "                \n",
    "    return game_links, game_teams \n"
   ]
  },
  {
   "cell_type": "code",
   "execution_count": 17,
   "id": "92cd58f2-0db8-4325-a652-e7914b87860f",
   "metadata": {},
   "outputs": [],
   "source": [
    "yankee_games = game_links_grab(days_game)"
   ]
  },
  {
   "cell_type": "code",
   "execution_count": 18,
   "id": "1d221c9a-32ea-4b23-8101-f20eb6a5f355",
   "metadata": {},
   "outputs": [
    {
     "data": {
      "text/plain": [
       "['/api/v1.1/game/662776/feed/live',\n",
       " '/api/v1.1/game/662775/feed/live',\n",
       " '/api/v1.1/game/661072/feed/live',\n",
       " '/api/v1.1/game/661057/feed/live',\n",
       " '/api/v1.1/game/661056/feed/live',\n",
       " '/api/v1.1/game/662438/feed/live',\n",
       " '/api/v1.1/game/662420/feed/live',\n",
       " '/api/v1.1/game/661257/feed/live',\n",
       " '/api/v1.1/game/661256/feed/live',\n",
       " '/api/v1.1/game/661255/feed/live',\n",
       " '/api/v1.1/game/661254/feed/live',\n",
       " '/api/v1.1/game/661268/feed/live',\n",
       " '/api/v1.1/game/661253/feed/live',\n",
       " '/api/v1.1/game/661293/feed/live',\n",
       " '/api/v1.1/game/661946/feed/live',\n",
       " '/api/v1.1/game/661949/feed/live',\n",
       " '/api/v1.1/game/661948/feed/live',\n",
       " '/api/v1.1/game/662152/feed/live',\n",
       " '/api/v1.1/game/662148/feed/live',\n",
       " '/api/v1.1/game/662185/feed/live',\n",
       " '/api/v1.1/game/663177/feed/live',\n",
       " '/api/v1.1/game/663176/feed/live',\n",
       " '/api/v1.1/game/663175/feed/live',\n",
       " '/api/v1.1/game/661283/feed/live',\n",
       " '/api/v1.1/game/661250/feed/live',\n",
       " '/api/v1.1/game/661266/feed/live',\n",
       " '/api/v1.1/game/661265/feed/live',\n",
       " '/api/v1.1/game/661319/feed/live',\n",
       " '/api/v1.1/game/661240/feed/live',\n",
       " '/api/v1.1/game/661239/feed/live',\n",
       " '/api/v1.1/game/661238/feed/live']"
      ]
     },
     "execution_count": 18,
     "metadata": {},
     "output_type": "execute_result"
    }
   ],
   "source": [
    "yankee_games[0]"
   ]
  },
  {
   "cell_type": "code",
   "execution_count": 19,
   "id": "18e5061b-512f-4334-a8d7-439541b35656",
   "metadata": {},
   "outputs": [
    {
     "data": {
      "text/plain": [
       "31"
      ]
     },
     "execution_count": 19,
     "metadata": {},
     "output_type": "execute_result"
    }
   ],
   "source": [
    "len(yankee_games[1])"
   ]
  },
  {
   "cell_type": "markdown",
   "id": "2ec6953b-7b22-4f07-945b-9a3dbbab4641",
   "metadata": {},
   "source": [
    "## Our goal is to see how many hits the Yankees have had when there are less than two outs and compare with how many they have when there are 2. But we need to figure out what the API considers a hit. To do this we will pull information from each game and see what feilds we get for the result of each play. We will do this in a function just incase we will need this in the future."
   ]
  },
  {
   "cell_type": "code",
   "execution_count": 20,
   "id": "d03ffe90-fc84-4b26-81b1-2852ca98218d",
   "metadata": {},
   "outputs": [],
   "source": [
    "def feilds_return(link):\n",
    "    url = 'http://statsapi.mlb.com' + link\n",
    "    response = requests.get(url)\n",
    "    game = response.json()\n",
    "        \n",
    "    feilds = []\n",
    "    \n",
    "    for x in game['liveData']['plays']['allPlays']:\n",
    "        try:\n",
    "            event = x['result']['event']\n",
    "            if event not in feilds:\n",
    "                feilds.append(event)\n",
    "        except:\n",
    "            pass\n",
    "        \n",
    "    return feilds\n",
    "        \n",
    "    "
   ]
  },
  {
   "cell_type": "code",
   "execution_count": 21,
   "id": "48477e05-ee5d-47fc-96b6-ee685f23a1d2",
   "metadata": {},
   "outputs": [],
   "source": [
    "game_links = yankee_games[0]\n",
    "all_feilds = []\n",
    "\n",
    "for link in game_links:\n",
    "    new_feilds = feilds_return(link)\n",
    "    for x in new_feilds:\n",
    "        if x not in all_feilds:\n",
    "            all_feilds.append(x)"
   ]
  },
  {
   "cell_type": "code",
   "execution_count": 22,
   "id": "3f4ba76d-4853-43cf-9091-bc2a819ccb54",
   "metadata": {},
   "outputs": [
    {
     "data": {
      "text/plain": [
       "['Walk',\n",
       " 'Flyout',\n",
       " 'Hit By Pitch',\n",
       " 'Single',\n",
       " 'Strikeout',\n",
       " 'Lineout',\n",
       " 'Pop Out',\n",
       " 'Double',\n",
       " 'Double Play',\n",
       " 'Grounded Into DP',\n",
       " 'Groundout',\n",
       " 'Home Run',\n",
       " 'Intent Walk',\n",
       " 'Forceout',\n",
       " 'Field Error',\n",
       " 'Catcher Interference',\n",
       " 'Strikeout Double Play',\n",
       " 'Caught Stealing 2B',\n",
       " 'Sac Fly',\n",
       " 'Fielders Choice',\n",
       " 'Sac Bunt',\n",
       " 'Triple',\n",
       " 'Fielders Choice Out',\n",
       " 'Bunt Pop Out',\n",
       " 'Caught Stealing 3B',\n",
       " 'Bunt Groundout']"
      ]
     },
     "execution_count": 22,
     "metadata": {},
     "output_type": "execute_result"
    }
   ],
   "source": [
    "all_feilds"
   ]
  },
  {
   "cell_type": "markdown",
   "id": "d91f4c01-31bf-4756-aa28-882a7c80ec30",
   "metadata": {},
   "source": [
    "## Here is where things can get subjective. Although I played baseball as a kid and have watched it all my life, unfortunately I'm not stats expert nor a data scientiest. Maybe an aspiring one but not an actual one. But we need to decide what we are going to consider a hit, an out, and anything that is neither. We are going to make this a global variable to insure we call these in our future functions. We will also loop each list to confirm we didn't miss anything from the original list."
   ]
  },
  {
   "cell_type": "code",
   "execution_count": 23,
   "id": "712f8253-d4a7-4490-be1f-716e23fa495e",
   "metadata": {},
   "outputs": [],
   "source": [
    "global hits, outs, other, not_found\n",
    "hit_list = ['Single','Double','Triple','Home Run',]\n",
    "out_list = ['Flyout','Strikeout','Lineout','Pop Out','Double Play','Grounded Into DP','Groundout','Forceout','Strikeout Double Play','Fielders Choice Out','Bunt Pop Out','Bunt Groundout']\n",
    "other_list = ['Walk','Hit By Pitch','Intent Walk','Field Error','Catcher Interference','Caught Stealing 2B','Sac Fly','Fielders Choice','Sac Bunt','Caught Stealing 3B','Game Advisory']\n",
    "not_found = []"
   ]
  },
  {
   "cell_type": "code",
   "execution_count": 24,
   "id": "c98a9f6d-86d7-4c36-938a-713684523771",
   "metadata": {},
   "outputs": [
    {
     "name": "stdout",
     "output_type": "stream",
     "text": [
      "Game Advisory\n"
     ]
    },
    {
     "data": {
      "text/plain": [
       "[]"
      ]
     },
     "execution_count": 24,
     "metadata": {},
     "output_type": "execute_result"
    }
   ],
   "source": [
    "pop_all_feilds = all_feilds\n",
    "\n",
    "for x in hit_list:\n",
    "    if x in pop_all_feilds:\n",
    "        pop_all_feilds.remove(x)\n",
    "    else:\n",
    "        print(x)\n",
    "        \n",
    "for x in out_list:\n",
    "    if x in pop_all_feilds:\n",
    "        pop_all_feilds.remove(x)\n",
    "    else:\n",
    "        print(x)\n",
    "        \n",
    "for x in other_list:\n",
    "    if x in pop_all_feilds:\n",
    "        pop_all_feilds.remove(x)\n",
    "    else:\n",
    "        print(x)\n",
    "        \n",
    "pop_all_feilds"
   ]
  },
  {
   "cell_type": "markdown",
   "id": "f1e248db-0e7d-4600-9162-63c99d72ee11",
   "metadata": {},
   "source": [
    "## Now the meat and potatoes, we need to identify each at bat the Yankees have had. To do that we need to identify if the Yankees are the home or not. Once we figure that out we will loop through each at bat and identify if the player got a hit or not. If the player did get a hit we will identify if it was with less than 2 outs or with two outs. We will add each hit to a dict under their respective category."
   ]
  },
  {
   "cell_type": "code",
   "execution_count": 42,
   "id": "9e6e5309-72f3-479a-9df7-05efdddb2ad9",
   "metadata": {},
   "outputs": [],
   "source": [
    "def game_stats(link):\n",
    "    url = 'http://statsapi.mlb.com' + link\n",
    "    response = requests.get(url)\n",
    "    game = response.json()\n",
    "    \n",
    "    date = game['gameData']['datetime']['officialDate']\n",
    "    \n",
    "    away_team = game['gameData']['teams']['away']['name']\n",
    "    away_team_score = game['liveData']['linescore']['teams']['away']['runs']\n",
    "    away_team_full = away_team + ': ' + str(away_team_score)\n",
    "    \n",
    "    home_team = game['gameData']['teams']['home']['name']\n",
    "    home_team_score = game['liveData']['linescore']['teams']['home']['runs']\n",
    "    home_team_full = home_team + ': ' + str(home_team_score)\n",
    "\n",
    "    \n",
    "    if away_team == my_team:\n",
    "        home = False\n",
    "    if home_team == my_team:\n",
    "        home = True\n",
    "        \n",
    "    yankee_atbats = []\n",
    "\n",
    "    for x in game['liveData']['plays']['allPlays']:\n",
    "        if home is True:\n",
    "            if x['about']['halfInning'] == 'bottom':\n",
    "                yankee_atbats.append(x)\n",
    "        if home is False:\n",
    "            if x['about']['halfInning'] == 'top':\n",
    "                yankee_atbats.append(x)\n",
    "\n",
    "        hits_results = {'less_than_two':[],\n",
    "                        'two_out':[]}\n",
    "    \n",
    "\n",
    "    for x in yankee_atbats:\n",
    "    \n",
    "        if x['result']['event'] in hit_list:\n",
    "            outs = x['count']['outs']\n",
    "            if outs < 2:\n",
    "                result = stat_creation(x)\n",
    "                hits_results['less_than_two'].append(result)\n",
    "            elif outs == 2:\n",
    "                result = stat_creation(x)\n",
    "                hits_results['two_out'].append(result)\n",
    "            else:\n",
    "                print(outs)\n",
    "\n",
    "        elif x['result']['event'] in out_list:\n",
    "            pass\n",
    "\n",
    "        else:\n",
    "            not_found.append(x['result']['event'])\n",
    "            \n",
    "    less_than_two_hits = len(hits_results['less_than_two'])\n",
    "    two_out_hits = len(hits_results['two_out'])\n",
    "    \n",
    "    hits_results.update({'date': date,\n",
    "                         'home': home_team_full,\n",
    "                         'away': away_team_full,\n",
    "                         'stats':\n",
    "                         {'less_than_two_hits':less_than_two_hits,\n",
    "                          'two_out_hits':two_out_hits}})\n",
    "    \n",
    "    return link, hits_results\n"
   ]
  },
  {
   "cell_type": "code",
   "execution_count": 43,
   "id": "bd861d20-7a83-46a7-b88a-698329eb7b0b",
   "metadata": {},
   "outputs": [],
   "source": [
    "def stat_creation(at_bat):\n",
    "    batter = at_bat['matchup']['batter']['fullName']\n",
    "    inning = at_bat['about']['inning']\n",
    "    result = at_bat['result']['description']\n",
    "\n",
    "    on_base = ''\n",
    "    \n",
    "    try:\n",
    "        on_first = at_bat['matchup']['postOnFirst']['fullName']\n",
    "        if on_first != batter:\n",
    "            on_first = True\n",
    "        else:\n",
    "            on_first = False\n",
    "            \n",
    "    except:\n",
    "        on_first = False\n",
    "\n",
    "    try:\n",
    "        on_second = at_bat['matchup']['postOnSecond']['fullName']\n",
    "        if on_second != batter:\n",
    "            on_second = True\n",
    "        else:\n",
    "            on_second = False\n",
    "    except:\n",
    "        on_second = False\n",
    "\n",
    "    try:\n",
    "        on_third = at_bat['matchup']['postOnThird']['fullName']\n",
    "        if on_third != batter:\n",
    "            on_third = True\n",
    "        else:\n",
    "            on_third = False\n",
    "            \n",
    "    except:\n",
    "        on_third = False\n",
    "\n",
    "    if on_first is False and on_second is False and on_third is False:\n",
    "        if 'scores' in result:\n",
    "            on_base = True\n",
    "        else:\n",
    "            on_base = False\n",
    "    else:\n",
    "        on_base = True\n",
    "\n",
    "    full_stat = {'batter': batter,\n",
    "                 'inning': inning,\n",
    "                 'result': result,\n",
    "                 'onbase': on_base}    \n",
    "    \n",
    "    return full_stat"
   ]
  },
  {
   "cell_type": "code",
   "execution_count": 44,
   "id": "11c20bdf-94ee-446a-95d4-9cee0691902d",
   "metadata": {},
   "outputs": [
    {
     "name": "stdout",
     "output_type": "stream",
     "text": [
      "3\n"
     ]
    }
   ],
   "source": [
    "all_stats = {}\n",
    "for link in game_links:\n",
    "    howd_they_do = game_stats(link)\n",
    "    try:\n",
    "        all_stats.update({howd_they_do[0]:howd_they_do[1]})\n",
    "    except:\n",
    "        pass"
   ]
  },
  {
   "cell_type": "code",
   "execution_count": 47,
   "id": "1f076f07-cb96-47f5-88af-3f6247f63dd1",
   "metadata": {},
   "outputs": [],
   "source": [
    "#all_stats"
   ]
  },
  {
   "cell_type": "markdown",
   "id": "4620c72f-1c06-4dab-b6a9-7886a52f3b2b",
   "metadata": {},
   "source": [
    "## Now we will create a dict that will give us the amount of games the Yankees had more hits with less than two outs, with two outs, and the same amount of hits"
   ]
  },
  {
   "cell_type": "code",
   "execution_count": 58,
   "id": "ffce1d19-2246-40f2-b421-c0f70f8da9bb",
   "metadata": {},
   "outputs": [],
   "source": [
    "hits_dict = {'less_2': 0,\n",
    "            'equal_2': 0,\n",
    "            'same': 0}"
   ]
  },
  {
   "cell_type": "code",
   "execution_count": 59,
   "id": "31f1985b-bd30-4b78-ad9c-aa68dd4f9e38",
   "metadata": {},
   "outputs": [],
   "source": [
    "for x in all_stats:\n",
    "    less_than_two = all_stats[x]['stats']['less_than_two_hits']\n",
    "    two_out = all_stats[x]['stats']['two_out_hits']\n",
    "    \n",
    "    if less_than_two > two_out:\n",
    "        count = hits_dict['less_2']\n",
    "        new_count = count + 1\n",
    "        hits_dict.update({'less_2':new_count})\n",
    "        \n",
    "    elif less_than_two < two_out:\n",
    "        count = hits_dict['equal_2']\n",
    "        new_count = count + 1\n",
    "        hits_dict.update({'equal_2':new_count})\n",
    "        \n",
    "    elif less_than_two == two_out:\n",
    "        count = hits_dict['same']\n",
    "        new_count = count + 1\n",
    "        hits_dict.update({'same':new_count})\n",
    "    \n",
    "    else:\n",
    "        print('???')\n",
    "    "
   ]
  },
  {
   "cell_type": "code",
   "execution_count": 60,
   "id": "b83e395f-bd92-48fa-bf60-a9ea24751d0e",
   "metadata": {},
   "outputs": [
    {
     "data": {
      "text/plain": [
       "{'less_2': 22, 'equal_2': 5, 'same': 4}"
      ]
     },
     "execution_count": 60,
     "metadata": {},
     "output_type": "execute_result"
    }
   ],
   "source": [
    "hits_dict"
   ]
  },
  {
   "cell_type": "markdown",
   "id": "933d96bb-583f-45e2-baf0-38becc40150e",
   "metadata": {},
   "source": [
    "## At the time of me creating this I got {'less_2': 22, 'equal_2': 5, 'same': 4}. Looks like my father an I were wrong. Lets create a nice pandas dataframe and a chart to visualize our data."
   ]
  },
  {
   "cell_type": "code",
   "execution_count": 55,
   "id": "4573c764-0c1b-4ece-b3eb-eef091950a69",
   "metadata": {},
   "outputs": [],
   "source": [
    "games_df = pd.DataFrame(columns = ['Date', 'Less_2', 'Equal_2','Players_On','Yankee_Score','Opponent_Score'])\n",
    "for x in all_stats:\n",
    "    \n",
    "    if my_team in all_stats[x]['home']:\n",
    "        yankee_score = all_stats[x]['home'].split(': ')[1]\n",
    "        opponent_score = all_stats[x]['away'].split(': ')[1]\n",
    "    else:\n",
    "        yankee_score = all_stats[x]['away'].split(': ')[1]\n",
    "        opponent_score = all_stats[x]['home'].split(': ')[1]\n",
    "                      \n",
    "    players_on = 0\n",
    "    \n",
    "    for at_bats in all_stats[x]['less_than_two']:\n",
    "        if at_bats['onbase'] is True:\n",
    "            players_on = players_on + 1\n",
    "            \n",
    "    for at_bats in all_stats[x]['two_out']:\n",
    "        if at_bats['onbase'] is True:\n",
    "            players_on = players_on + 1\n",
    "            \n",
    "    date = all_stats[x]['date']\n",
    "    less_2 = all_stats[x]['stats']['less_than_two_hits']\n",
    "    equal_2 = all_stats[x]['stats']['two_out_hits']\n",
    "    new_row = {'Date':date, \n",
    "               'Less_2':less_2, \n",
    "               'Equal_2': equal_2, \n",
    "               'Players_On':players_on, \n",
    "               'Yankee_Score': yankee_score,\n",
    "               'Opponent_Score': opponent_score\n",
    "              }\n",
    "    games_df = games_df.append(new_row, ignore_index=True)\n"
   ]
  },
  {
   "cell_type": "code",
   "execution_count": 56,
   "id": "fa87baf4-2a60-46f1-aef6-03aaecdec95f",
   "metadata": {},
   "outputs": [
    {
     "data": {
      "text/html": [
       "<div>\n",
       "<style scoped>\n",
       "    .dataframe tbody tr th:only-of-type {\n",
       "        vertical-align: middle;\n",
       "    }\n",
       "\n",
       "    .dataframe tbody tr th {\n",
       "        vertical-align: top;\n",
       "    }\n",
       "\n",
       "    .dataframe thead th {\n",
       "        text-align: right;\n",
       "    }\n",
       "</style>\n",
       "<table border=\"1\" class=\"dataframe\">\n",
       "  <thead>\n",
       "    <tr style=\"text-align: right;\">\n",
       "      <th></th>\n",
       "      <th>Date</th>\n",
       "      <th>Less_2</th>\n",
       "      <th>Equal_2</th>\n",
       "      <th>Players_On</th>\n",
       "      <th>Yankee_Score</th>\n",
       "      <th>Opponent_Score</th>\n",
       "    </tr>\n",
       "  </thead>\n",
       "  <tbody>\n",
       "    <tr>\n",
       "      <th>0</th>\n",
       "      <td>2022-07-21</td>\n",
       "      <td>3</td>\n",
       "      <td>2</td>\n",
       "      <td>2</td>\n",
       "      <td>2</td>\n",
       "      <td>3</td>\n",
       "    </tr>\n",
       "    <tr>\n",
       "      <th>1</th>\n",
       "      <td>2022-07-21</td>\n",
       "      <td>7</td>\n",
       "      <td>1</td>\n",
       "      <td>4</td>\n",
       "      <td>5</td>\n",
       "      <td>7</td>\n",
       "    </tr>\n",
       "    <tr>\n",
       "      <th>2</th>\n",
       "      <td>2022-07-22</td>\n",
       "      <td>4</td>\n",
       "      <td>5</td>\n",
       "      <td>5</td>\n",
       "      <td>7</td>\n",
       "      <td>6</td>\n",
       "    </tr>\n",
       "    <tr>\n",
       "      <th>3</th>\n",
       "      <td>2022-07-23</td>\n",
       "      <td>10</td>\n",
       "      <td>1</td>\n",
       "      <td>4</td>\n",
       "      <td>3</td>\n",
       "      <td>6</td>\n",
       "    </tr>\n",
       "    <tr>\n",
       "      <th>4</th>\n",
       "      <td>2022-07-24</td>\n",
       "      <td>6</td>\n",
       "      <td>7</td>\n",
       "      <td>9</td>\n",
       "      <td>6</td>\n",
       "      <td>0</td>\n",
       "    </tr>\n",
       "    <tr>\n",
       "      <th>5</th>\n",
       "      <td>2022-07-26</td>\n",
       "      <td>8</td>\n",
       "      <td>1</td>\n",
       "      <td>2</td>\n",
       "      <td>3</td>\n",
       "      <td>6</td>\n",
       "    </tr>\n",
       "    <tr>\n",
       "      <th>6</th>\n",
       "      <td>2022-07-27</td>\n",
       "      <td>4</td>\n",
       "      <td>3</td>\n",
       "      <td>3</td>\n",
       "      <td>2</td>\n",
       "      <td>3</td>\n",
       "    </tr>\n",
       "    <tr>\n",
       "      <th>7</th>\n",
       "      <td>2022-07-28</td>\n",
       "      <td>1</td>\n",
       "      <td>1</td>\n",
       "      <td>0</td>\n",
       "      <td>1</td>\n",
       "      <td>0</td>\n",
       "    </tr>\n",
       "    <tr>\n",
       "      <th>8</th>\n",
       "      <td>2022-07-29</td>\n",
       "      <td>6</td>\n",
       "      <td>5</td>\n",
       "      <td>7</td>\n",
       "      <td>11</td>\n",
       "      <td>5</td>\n",
       "    </tr>\n",
       "    <tr>\n",
       "      <th>9</th>\n",
       "      <td>2022-07-30</td>\n",
       "      <td>7</td>\n",
       "      <td>1</td>\n",
       "      <td>3</td>\n",
       "      <td>8</td>\n",
       "      <td>2</td>\n",
       "    </tr>\n",
       "    <tr>\n",
       "      <th>10</th>\n",
       "      <td>2022-07-31</td>\n",
       "      <td>6</td>\n",
       "      <td>1</td>\n",
       "      <td>3</td>\n",
       "      <td>6</td>\n",
       "      <td>8</td>\n",
       "    </tr>\n",
       "    <tr>\n",
       "      <th>11</th>\n",
       "      <td>2022-08-01</td>\n",
       "      <td>8</td>\n",
       "      <td>2</td>\n",
       "      <td>4</td>\n",
       "      <td>7</td>\n",
       "      <td>2</td>\n",
       "    </tr>\n",
       "    <tr>\n",
       "      <th>12</th>\n",
       "      <td>2022-08-02</td>\n",
       "      <td>7</td>\n",
       "      <td>3</td>\n",
       "      <td>4</td>\n",
       "      <td>6</td>\n",
       "      <td>8</td>\n",
       "    </tr>\n",
       "    <tr>\n",
       "      <th>13</th>\n",
       "      <td>2022-08-03</td>\n",
       "      <td>0</td>\n",
       "      <td>4</td>\n",
       "      <td>2</td>\n",
       "      <td>3</td>\n",
       "      <td>7</td>\n",
       "    </tr>\n",
       "    <tr>\n",
       "      <th>14</th>\n",
       "      <td>2022-08-05</td>\n",
       "      <td>7</td>\n",
       "      <td>3</td>\n",
       "      <td>5</td>\n",
       "      <td>3</td>\n",
       "      <td>4</td>\n",
       "    </tr>\n",
       "    <tr>\n",
       "      <th>15</th>\n",
       "      <td>2022-08-06</td>\n",
       "      <td>2</td>\n",
       "      <td>0</td>\n",
       "      <td>0</td>\n",
       "      <td>0</td>\n",
       "      <td>1</td>\n",
       "    </tr>\n",
       "    <tr>\n",
       "      <th>16</th>\n",
       "      <td>2022-08-07</td>\n",
       "      <td>13</td>\n",
       "      <td>3</td>\n",
       "      <td>8</td>\n",
       "      <td>9</td>\n",
       "      <td>12</td>\n",
       "    </tr>\n",
       "    <tr>\n",
       "      <th>17</th>\n",
       "      <td>2022-08-08</td>\n",
       "      <td>8</td>\n",
       "      <td>5</td>\n",
       "      <td>6</td>\n",
       "      <td>9</td>\n",
       "      <td>4</td>\n",
       "    </tr>\n",
       "    <tr>\n",
       "      <th>18</th>\n",
       "      <td>2022-08-09</td>\n",
       "      <td>2</td>\n",
       "      <td>1</td>\n",
       "      <td>0</td>\n",
       "      <td>0</td>\n",
       "      <td>1</td>\n",
       "    </tr>\n",
       "    <tr>\n",
       "      <th>19</th>\n",
       "      <td>2022-08-10</td>\n",
       "      <td>1</td>\n",
       "      <td>3</td>\n",
       "      <td>2</td>\n",
       "      <td>3</td>\n",
       "      <td>4</td>\n",
       "    </tr>\n",
       "    <tr>\n",
       "      <th>20</th>\n",
       "      <td>2022-08-12</td>\n",
       "      <td>8</td>\n",
       "      <td>1</td>\n",
       "      <td>4</td>\n",
       "      <td>2</td>\n",
       "      <td>3</td>\n",
       "    </tr>\n",
       "    <tr>\n",
       "      <th>21</th>\n",
       "      <td>2022-08-13</td>\n",
       "      <td>4</td>\n",
       "      <td>2</td>\n",
       "      <td>4</td>\n",
       "      <td>3</td>\n",
       "      <td>2</td>\n",
       "    </tr>\n",
       "    <tr>\n",
       "      <th>22</th>\n",
       "      <td>2022-08-14</td>\n",
       "      <td>1</td>\n",
       "      <td>1</td>\n",
       "      <td>0</td>\n",
       "      <td>0</td>\n",
       "      <td>3</td>\n",
       "    </tr>\n",
       "    <tr>\n",
       "      <th>23</th>\n",
       "      <td>2022-08-15</td>\n",
       "      <td>5</td>\n",
       "      <td>2</td>\n",
       "      <td>1</td>\n",
       "      <td>0</td>\n",
       "      <td>4</td>\n",
       "    </tr>\n",
       "    <tr>\n",
       "      <th>24</th>\n",
       "      <td>2022-08-16</td>\n",
       "      <td>2</td>\n",
       "      <td>2</td>\n",
       "      <td>0</td>\n",
       "      <td>1</td>\n",
       "      <td>3</td>\n",
       "    </tr>\n",
       "    <tr>\n",
       "      <th>25</th>\n",
       "      <td>2022-08-17</td>\n",
       "      <td>8</td>\n",
       "      <td>2</td>\n",
       "      <td>4</td>\n",
       "      <td>8</td>\n",
       "      <td>7</td>\n",
       "    </tr>\n",
       "    <tr>\n",
       "      <th>26</th>\n",
       "      <td>2022-08-18</td>\n",
       "      <td>4</td>\n",
       "      <td>3</td>\n",
       "      <td>3</td>\n",
       "      <td>2</td>\n",
       "      <td>9</td>\n",
       "    </tr>\n",
       "    <tr>\n",
       "      <th>27</th>\n",
       "      <td>2022-08-19</td>\n",
       "      <td>1</td>\n",
       "      <td>3</td>\n",
       "      <td>1</td>\n",
       "      <td>0</td>\n",
       "      <td>4</td>\n",
       "    </tr>\n",
       "    <tr>\n",
       "      <th>28</th>\n",
       "      <td>2022-08-20</td>\n",
       "      <td>8</td>\n",
       "      <td>1</td>\n",
       "      <td>3</td>\n",
       "      <td>2</td>\n",
       "      <td>5</td>\n",
       "    </tr>\n",
       "    <tr>\n",
       "      <th>29</th>\n",
       "      <td>2022-08-21</td>\n",
       "      <td>3</td>\n",
       "      <td>3</td>\n",
       "      <td>3</td>\n",
       "      <td>4</td>\n",
       "      <td>2</td>\n",
       "    </tr>\n",
       "    <tr>\n",
       "      <th>30</th>\n",
       "      <td>2022-08-22</td>\n",
       "      <td>5</td>\n",
       "      <td>3</td>\n",
       "      <td>4</td>\n",
       "      <td>4</td>\n",
       "      <td>2</td>\n",
       "    </tr>\n",
       "  </tbody>\n",
       "</table>\n",
       "</div>"
      ],
      "text/plain": [
       "          Date Less_2 Equal_2 Players_On Yankee_Score Opponent_Score\n",
       "0   2022-07-21      3       2          2            2              3\n",
       "1   2022-07-21      7       1          4            5              7\n",
       "2   2022-07-22      4       5          5            7              6\n",
       "3   2022-07-23     10       1          4            3              6\n",
       "4   2022-07-24      6       7          9            6              0\n",
       "5   2022-07-26      8       1          2            3              6\n",
       "6   2022-07-27      4       3          3            2              3\n",
       "7   2022-07-28      1       1          0            1              0\n",
       "8   2022-07-29      6       5          7           11              5\n",
       "9   2022-07-30      7       1          3            8              2\n",
       "10  2022-07-31      6       1          3            6              8\n",
       "11  2022-08-01      8       2          4            7              2\n",
       "12  2022-08-02      7       3          4            6              8\n",
       "13  2022-08-03      0       4          2            3              7\n",
       "14  2022-08-05      7       3          5            3              4\n",
       "15  2022-08-06      2       0          0            0              1\n",
       "16  2022-08-07     13       3          8            9             12\n",
       "17  2022-08-08      8       5          6            9              4\n",
       "18  2022-08-09      2       1          0            0              1\n",
       "19  2022-08-10      1       3          2            3              4\n",
       "20  2022-08-12      8       1          4            2              3\n",
       "21  2022-08-13      4       2          4            3              2\n",
       "22  2022-08-14      1       1          0            0              3\n",
       "23  2022-08-15      5       2          1            0              4\n",
       "24  2022-08-16      2       2          0            1              3\n",
       "25  2022-08-17      8       2          4            8              7\n",
       "26  2022-08-18      4       3          3            2              9\n",
       "27  2022-08-19      1       3          1            0              4\n",
       "28  2022-08-20      8       1          3            2              5\n",
       "29  2022-08-21      3       3          3            4              2\n",
       "30  2022-08-22      5       3          4            4              2"
      ]
     },
     "execution_count": 56,
     "metadata": {},
     "output_type": "execute_result"
    }
   ],
   "source": [
    "games_df"
   ]
  },
  {
   "cell_type": "code",
   "execution_count": 57,
   "id": "3446b7ea-4b3a-4984-b277-fcd59b7721b0",
   "metadata": {},
   "outputs": [
    {
     "data": {
      "application/vnd.plotly.v1+json": {
       "config": {
        "plotlyServerURL": "https://plot.ly"
       },
       "data": [
        {
         "marker": {
          "color": "#1f77b4"
         },
         "name": "Less Than Two Out Hits",
         "type": "bar",
         "x": [
          "2022-07-21",
          "2022-07-21",
          "2022-07-22",
          "2022-07-23",
          "2022-07-24",
          "2022-07-26",
          "2022-07-27",
          "2022-07-28",
          "2022-07-29",
          "2022-07-30",
          "2022-07-31",
          "2022-08-01",
          "2022-08-02",
          "2022-08-03",
          "2022-08-05",
          "2022-08-06",
          "2022-08-07",
          "2022-08-08",
          "2022-08-09",
          "2022-08-10",
          "2022-08-12",
          "2022-08-13",
          "2022-08-14",
          "2022-08-15",
          "2022-08-16",
          "2022-08-17",
          "2022-08-18",
          "2022-08-19",
          "2022-08-20",
          "2022-08-21",
          "2022-08-22"
         ],
         "y": [
          3,
          7,
          4,
          10,
          6,
          8,
          4,
          1,
          6,
          7,
          6,
          8,
          7,
          0,
          7,
          2,
          13,
          8,
          2,
          1,
          8,
          4,
          1,
          5,
          2,
          8,
          4,
          1,
          8,
          3,
          5
         ]
        },
        {
         "marker": {
          "color": "#2ca02c"
         },
         "name": "Two Out Hits",
         "type": "bar",
         "x": [
          "2022-07-21",
          "2022-07-21",
          "2022-07-22",
          "2022-07-23",
          "2022-07-24",
          "2022-07-26",
          "2022-07-27",
          "2022-07-28",
          "2022-07-29",
          "2022-07-30",
          "2022-07-31",
          "2022-08-01",
          "2022-08-02",
          "2022-08-03",
          "2022-08-05",
          "2022-08-06",
          "2022-08-07",
          "2022-08-08",
          "2022-08-09",
          "2022-08-10",
          "2022-08-12",
          "2022-08-13",
          "2022-08-14",
          "2022-08-15",
          "2022-08-16",
          "2022-08-17",
          "2022-08-18",
          "2022-08-19",
          "2022-08-20",
          "2022-08-21",
          "2022-08-22"
         ],
         "y": [
          2,
          1,
          5,
          1,
          7,
          1,
          3,
          1,
          5,
          1,
          1,
          2,
          3,
          4,
          3,
          0,
          3,
          5,
          1,
          3,
          1,
          2,
          1,
          2,
          2,
          2,
          3,
          3,
          1,
          3,
          3
         ]
        },
        {
         "marker": {
          "color": "#8c564b"
         },
         "name": "Players On",
         "type": "bar",
         "x": [
          "2022-07-21",
          "2022-07-21",
          "2022-07-22",
          "2022-07-23",
          "2022-07-24",
          "2022-07-26",
          "2022-07-27",
          "2022-07-28",
          "2022-07-29",
          "2022-07-30",
          "2022-07-31",
          "2022-08-01",
          "2022-08-02",
          "2022-08-03",
          "2022-08-05",
          "2022-08-06",
          "2022-08-07",
          "2022-08-08",
          "2022-08-09",
          "2022-08-10",
          "2022-08-12",
          "2022-08-13",
          "2022-08-14",
          "2022-08-15",
          "2022-08-16",
          "2022-08-17",
          "2022-08-18",
          "2022-08-19",
          "2022-08-20",
          "2022-08-21",
          "2022-08-22"
         ],
         "y": [
          2,
          4,
          5,
          4,
          9,
          2,
          3,
          0,
          7,
          3,
          3,
          4,
          4,
          2,
          5,
          0,
          8,
          6,
          0,
          2,
          4,
          4,
          0,
          1,
          0,
          4,
          3,
          1,
          3,
          3,
          4
         ]
        }
       ],
       "layout": {
        "autosize": true,
        "template": {
         "data": {
          "bar": [
           {
            "error_x": {
             "color": "#2a3f5f"
            },
            "error_y": {
             "color": "#2a3f5f"
            },
            "marker": {
             "line": {
              "color": "#E5ECF6",
              "width": 0.5
             },
             "pattern": {
              "fillmode": "overlay",
              "size": 10,
              "solidity": 0.2
             }
            },
            "type": "bar"
           }
          ],
          "barpolar": [
           {
            "marker": {
             "line": {
              "color": "#E5ECF6",
              "width": 0.5
             },
             "pattern": {
              "fillmode": "overlay",
              "size": 10,
              "solidity": 0.2
             }
            },
            "type": "barpolar"
           }
          ],
          "carpet": [
           {
            "aaxis": {
             "endlinecolor": "#2a3f5f",
             "gridcolor": "white",
             "linecolor": "white",
             "minorgridcolor": "white",
             "startlinecolor": "#2a3f5f"
            },
            "baxis": {
             "endlinecolor": "#2a3f5f",
             "gridcolor": "white",
             "linecolor": "white",
             "minorgridcolor": "white",
             "startlinecolor": "#2a3f5f"
            },
            "type": "carpet"
           }
          ],
          "choropleth": [
           {
            "colorbar": {
             "outlinewidth": 0,
             "ticks": ""
            },
            "type": "choropleth"
           }
          ],
          "contour": [
           {
            "colorbar": {
             "outlinewidth": 0,
             "ticks": ""
            },
            "colorscale": [
             [
              0,
              "#0d0887"
             ],
             [
              0.1111111111111111,
              "#46039f"
             ],
             [
              0.2222222222222222,
              "#7201a8"
             ],
             [
              0.3333333333333333,
              "#9c179e"
             ],
             [
              0.4444444444444444,
              "#bd3786"
             ],
             [
              0.5555555555555556,
              "#d8576b"
             ],
             [
              0.6666666666666666,
              "#ed7953"
             ],
             [
              0.7777777777777778,
              "#fb9f3a"
             ],
             [
              0.8888888888888888,
              "#fdca26"
             ],
             [
              1,
              "#f0f921"
             ]
            ],
            "type": "contour"
           }
          ],
          "contourcarpet": [
           {
            "colorbar": {
             "outlinewidth": 0,
             "ticks": ""
            },
            "type": "contourcarpet"
           }
          ],
          "heatmap": [
           {
            "colorbar": {
             "outlinewidth": 0,
             "ticks": ""
            },
            "colorscale": [
             [
              0,
              "#0d0887"
             ],
             [
              0.1111111111111111,
              "#46039f"
             ],
             [
              0.2222222222222222,
              "#7201a8"
             ],
             [
              0.3333333333333333,
              "#9c179e"
             ],
             [
              0.4444444444444444,
              "#bd3786"
             ],
             [
              0.5555555555555556,
              "#d8576b"
             ],
             [
              0.6666666666666666,
              "#ed7953"
             ],
             [
              0.7777777777777778,
              "#fb9f3a"
             ],
             [
              0.8888888888888888,
              "#fdca26"
             ],
             [
              1,
              "#f0f921"
             ]
            ],
            "type": "heatmap"
           }
          ],
          "heatmapgl": [
           {
            "colorbar": {
             "outlinewidth": 0,
             "ticks": ""
            },
            "colorscale": [
             [
              0,
              "#0d0887"
             ],
             [
              0.1111111111111111,
              "#46039f"
             ],
             [
              0.2222222222222222,
              "#7201a8"
             ],
             [
              0.3333333333333333,
              "#9c179e"
             ],
             [
              0.4444444444444444,
              "#bd3786"
             ],
             [
              0.5555555555555556,
              "#d8576b"
             ],
             [
              0.6666666666666666,
              "#ed7953"
             ],
             [
              0.7777777777777778,
              "#fb9f3a"
             ],
             [
              0.8888888888888888,
              "#fdca26"
             ],
             [
              1,
              "#f0f921"
             ]
            ],
            "type": "heatmapgl"
           }
          ],
          "histogram": [
           {
            "marker": {
             "pattern": {
              "fillmode": "overlay",
              "size": 10,
              "solidity": 0.2
             }
            },
            "type": "histogram"
           }
          ],
          "histogram2d": [
           {
            "colorbar": {
             "outlinewidth": 0,
             "ticks": ""
            },
            "colorscale": [
             [
              0,
              "#0d0887"
             ],
             [
              0.1111111111111111,
              "#46039f"
             ],
             [
              0.2222222222222222,
              "#7201a8"
             ],
             [
              0.3333333333333333,
              "#9c179e"
             ],
             [
              0.4444444444444444,
              "#bd3786"
             ],
             [
              0.5555555555555556,
              "#d8576b"
             ],
             [
              0.6666666666666666,
              "#ed7953"
             ],
             [
              0.7777777777777778,
              "#fb9f3a"
             ],
             [
              0.8888888888888888,
              "#fdca26"
             ],
             [
              1,
              "#f0f921"
             ]
            ],
            "type": "histogram2d"
           }
          ],
          "histogram2dcontour": [
           {
            "colorbar": {
             "outlinewidth": 0,
             "ticks": ""
            },
            "colorscale": [
             [
              0,
              "#0d0887"
             ],
             [
              0.1111111111111111,
              "#46039f"
             ],
             [
              0.2222222222222222,
              "#7201a8"
             ],
             [
              0.3333333333333333,
              "#9c179e"
             ],
             [
              0.4444444444444444,
              "#bd3786"
             ],
             [
              0.5555555555555556,
              "#d8576b"
             ],
             [
              0.6666666666666666,
              "#ed7953"
             ],
             [
              0.7777777777777778,
              "#fb9f3a"
             ],
             [
              0.8888888888888888,
              "#fdca26"
             ],
             [
              1,
              "#f0f921"
             ]
            ],
            "type": "histogram2dcontour"
           }
          ],
          "mesh3d": [
           {
            "colorbar": {
             "outlinewidth": 0,
             "ticks": ""
            },
            "type": "mesh3d"
           }
          ],
          "parcoords": [
           {
            "line": {
             "colorbar": {
              "outlinewidth": 0,
              "ticks": ""
             }
            },
            "type": "parcoords"
           }
          ],
          "pie": [
           {
            "automargin": true,
            "type": "pie"
           }
          ],
          "scatter": [
           {
            "marker": {
             "colorbar": {
              "outlinewidth": 0,
              "ticks": ""
             }
            },
            "type": "scatter"
           }
          ],
          "scatter3d": [
           {
            "line": {
             "colorbar": {
              "outlinewidth": 0,
              "ticks": ""
             }
            },
            "marker": {
             "colorbar": {
              "outlinewidth": 0,
              "ticks": ""
             }
            },
            "type": "scatter3d"
           }
          ],
          "scattercarpet": [
           {
            "marker": {
             "colorbar": {
              "outlinewidth": 0,
              "ticks": ""
             }
            },
            "type": "scattercarpet"
           }
          ],
          "scattergeo": [
           {
            "marker": {
             "colorbar": {
              "outlinewidth": 0,
              "ticks": ""
             }
            },
            "type": "scattergeo"
           }
          ],
          "scattergl": [
           {
            "marker": {
             "colorbar": {
              "outlinewidth": 0,
              "ticks": ""
             }
            },
            "type": "scattergl"
           }
          ],
          "scattermapbox": [
           {
            "marker": {
             "colorbar": {
              "outlinewidth": 0,
              "ticks": ""
             }
            },
            "type": "scattermapbox"
           }
          ],
          "scatterpolar": [
           {
            "marker": {
             "colorbar": {
              "outlinewidth": 0,
              "ticks": ""
             }
            },
            "type": "scatterpolar"
           }
          ],
          "scatterpolargl": [
           {
            "marker": {
             "colorbar": {
              "outlinewidth": 0,
              "ticks": ""
             }
            },
            "type": "scatterpolargl"
           }
          ],
          "scatterternary": [
           {
            "marker": {
             "colorbar": {
              "outlinewidth": 0,
              "ticks": ""
             }
            },
            "type": "scatterternary"
           }
          ],
          "surface": [
           {
            "colorbar": {
             "outlinewidth": 0,
             "ticks": ""
            },
            "colorscale": [
             [
              0,
              "#0d0887"
             ],
             [
              0.1111111111111111,
              "#46039f"
             ],
             [
              0.2222222222222222,
              "#7201a8"
             ],
             [
              0.3333333333333333,
              "#9c179e"
             ],
             [
              0.4444444444444444,
              "#bd3786"
             ],
             [
              0.5555555555555556,
              "#d8576b"
             ],
             [
              0.6666666666666666,
              "#ed7953"
             ],
             [
              0.7777777777777778,
              "#fb9f3a"
             ],
             [
              0.8888888888888888,
              "#fdca26"
             ],
             [
              1,
              "#f0f921"
             ]
            ],
            "type": "surface"
           }
          ],
          "table": [
           {
            "cells": {
             "fill": {
              "color": "#EBF0F8"
             },
             "line": {
              "color": "white"
             }
            },
            "header": {
             "fill": {
              "color": "#C8D4E3"
             },
             "line": {
              "color": "white"
             }
            },
            "type": "table"
           }
          ]
         },
         "layout": {
          "annotationdefaults": {
           "arrowcolor": "#2a3f5f",
           "arrowhead": 0,
           "arrowwidth": 1
          },
          "autotypenumbers": "strict",
          "coloraxis": {
           "colorbar": {
            "outlinewidth": 0,
            "ticks": ""
           }
          },
          "colorscale": {
           "diverging": [
            [
             0,
             "#8e0152"
            ],
            [
             0.1,
             "#c51b7d"
            ],
            [
             0.2,
             "#de77ae"
            ],
            [
             0.3,
             "#f1b6da"
            ],
            [
             0.4,
             "#fde0ef"
            ],
            [
             0.5,
             "#f7f7f7"
            ],
            [
             0.6,
             "#e6f5d0"
            ],
            [
             0.7,
             "#b8e186"
            ],
            [
             0.8,
             "#7fbc41"
            ],
            [
             0.9,
             "#4d9221"
            ],
            [
             1,
             "#276419"
            ]
           ],
           "sequential": [
            [
             0,
             "#0d0887"
            ],
            [
             0.1111111111111111,
             "#46039f"
            ],
            [
             0.2222222222222222,
             "#7201a8"
            ],
            [
             0.3333333333333333,
             "#9c179e"
            ],
            [
             0.4444444444444444,
             "#bd3786"
            ],
            [
             0.5555555555555556,
             "#d8576b"
            ],
            [
             0.6666666666666666,
             "#ed7953"
            ],
            [
             0.7777777777777778,
             "#fb9f3a"
            ],
            [
             0.8888888888888888,
             "#fdca26"
            ],
            [
             1,
             "#f0f921"
            ]
           ],
           "sequentialminus": [
            [
             0,
             "#0d0887"
            ],
            [
             0.1111111111111111,
             "#46039f"
            ],
            [
             0.2222222222222222,
             "#7201a8"
            ],
            [
             0.3333333333333333,
             "#9c179e"
            ],
            [
             0.4444444444444444,
             "#bd3786"
            ],
            [
             0.5555555555555556,
             "#d8576b"
            ],
            [
             0.6666666666666666,
             "#ed7953"
            ],
            [
             0.7777777777777778,
             "#fb9f3a"
            ],
            [
             0.8888888888888888,
             "#fdca26"
            ],
            [
             1,
             "#f0f921"
            ]
           ]
          },
          "colorway": [
           "#636efa",
           "#EF553B",
           "#00cc96",
           "#ab63fa",
           "#FFA15A",
           "#19d3f3",
           "#FF6692",
           "#B6E880",
           "#FF97FF",
           "#FECB52"
          ],
          "font": {
           "color": "#2a3f5f"
          },
          "geo": {
           "bgcolor": "white",
           "lakecolor": "white",
           "landcolor": "#E5ECF6",
           "showlakes": true,
           "showland": true,
           "subunitcolor": "white"
          },
          "hoverlabel": {
           "align": "left"
          },
          "hovermode": "closest",
          "mapbox": {
           "style": "light"
          },
          "paper_bgcolor": "white",
          "plot_bgcolor": "#E5ECF6",
          "polar": {
           "angularaxis": {
            "gridcolor": "white",
            "linecolor": "white",
            "ticks": ""
           },
           "bgcolor": "#E5ECF6",
           "radialaxis": {
            "gridcolor": "white",
            "linecolor": "white",
            "ticks": ""
           }
          },
          "scene": {
           "xaxis": {
            "backgroundcolor": "#E5ECF6",
            "gridcolor": "white",
            "gridwidth": 2,
            "linecolor": "white",
            "showbackground": true,
            "ticks": "",
            "zerolinecolor": "white"
           },
           "yaxis": {
            "backgroundcolor": "#E5ECF6",
            "gridcolor": "white",
            "gridwidth": 2,
            "linecolor": "white",
            "showbackground": true,
            "ticks": "",
            "zerolinecolor": "white"
           },
           "zaxis": {
            "backgroundcolor": "#E5ECF6",
            "gridcolor": "white",
            "gridwidth": 2,
            "linecolor": "white",
            "showbackground": true,
            "ticks": "",
            "zerolinecolor": "white"
           }
          },
          "shapedefaults": {
           "line": {
            "color": "#2a3f5f"
           }
          },
          "ternary": {
           "aaxis": {
            "gridcolor": "white",
            "linecolor": "white",
            "ticks": ""
           },
           "baxis": {
            "gridcolor": "white",
            "linecolor": "white",
            "ticks": ""
           },
           "bgcolor": "#E5ECF6",
           "caxis": {
            "gridcolor": "white",
            "linecolor": "white",
            "ticks": ""
           }
          },
          "title": {
           "x": 0.05
          },
          "xaxis": {
           "automargin": true,
           "gridcolor": "white",
           "linecolor": "white",
           "ticks": "",
           "title": {
            "standoff": 15
           },
           "zerolinecolor": "white",
           "zerolinewidth": 2
          },
          "yaxis": {
           "automargin": true,
           "gridcolor": "white",
           "linecolor": "white",
           "ticks": "",
           "title": {
            "standoff": 15
           },
           "zerolinecolor": "white",
           "zerolinewidth": 2
          }
         }
        },
        "xaxis": {
         "autorange": true,
         "range": [
          "2022-07-20 12:00",
          "2022-08-22 12:00"
         ],
         "type": "date"
        },
        "yaxis": {
         "autorange": true,
         "range": [
          0,
          13.68421052631579
         ],
         "type": "linear"
        }
       }
      },
      "image/png": "[encoded data removed]",
      "text/html": [
       "<div>                            <div id=\"ce46bd06-5486-45dd-9255-c5837cb7cc9d\" class=\"plotly-graph-div\" style=\"height:525px; width:100%;\"></div>            <script type=\"text/javascript\">                require([\"plotly\"], function(Plotly) {                    window.PLOTLYENV=window.PLOTLYENV || {};                                    if (document.getElementById(\"ce46bd06-5486-45dd-9255-c5837cb7cc9d\")) {                    Plotly.newPlot(                        \"ce46bd06-5486-45dd-9255-c5837cb7cc9d\",                        [{\"marker\":{\"color\":\"#1f77b4\"},\"name\":\"Less Than Two Out Hits\",\"x\":[\"2022-07-21\",\"2022-07-21\",\"2022-07-22\",\"2022-07-23\",\"2022-07-24\",\"2022-07-26\",\"2022-07-27\",\"2022-07-28\",\"2022-07-29\",\"2022-07-30\",\"2022-07-31\",\"2022-08-01\",\"2022-08-02\",\"2022-08-03\",\"2022-08-05\",\"2022-08-06\",\"2022-08-07\",\"2022-08-08\",\"2022-08-09\",\"2022-08-10\",\"2022-08-12\",\"2022-08-13\",\"2022-08-14\",\"2022-08-15\",\"2022-08-16\",\"2022-08-17\",\"2022-08-18\",\"2022-08-19\",\"2022-08-20\",\"2022-08-21\",\"2022-08-22\"],\"y\":[3,7,4,10,6,8,4,1,6,7,6,8,7,0,7,2,13,8,2,1,8,4,1,5,2,8,4,1,8,3,5],\"type\":\"bar\"},{\"marker\":{\"color\":\"#2ca02c\"},\"name\":\"Two Out Hits\",\"x\":[\"2022-07-21\",\"2022-07-21\",\"2022-07-22\",\"2022-07-23\",\"2022-07-24\",\"2022-07-26\",\"2022-07-27\",\"2022-07-28\",\"2022-07-29\",\"2022-07-30\",\"2022-07-31\",\"2022-08-01\",\"2022-08-02\",\"2022-08-03\",\"2022-08-05\",\"2022-08-06\",\"2022-08-07\",\"2022-08-08\",\"2022-08-09\",\"2022-08-10\",\"2022-08-12\",\"2022-08-13\",\"2022-08-14\",\"2022-08-15\",\"2022-08-16\",\"2022-08-17\",\"2022-08-18\",\"2022-08-19\",\"2022-08-20\",\"2022-08-21\",\"2022-08-22\"],\"y\":[2,1,5,1,7,1,3,1,5,1,1,2,3,4,3,0,3,5,1,3,1,2,1,2,2,2,3,3,1,3,3],\"type\":\"bar\"},{\"marker\":{\"color\":\"#8c564b\"},\"name\":\"Players On\",\"x\":[\"2022-07-21\",\"2022-07-21\",\"2022-07-22\",\"2022-07-23\",\"2022-07-24\",\"2022-07-26\",\"2022-07-27\",\"2022-07-28\",\"2022-07-29\",\"2022-07-30\",\"2022-07-31\",\"2022-08-01\",\"2022-08-02\",\"2022-08-03\",\"2022-08-05\",\"2022-08-06\",\"2022-08-07\",\"2022-08-08\",\"2022-08-09\",\"2022-08-10\",\"2022-08-12\",\"2022-08-13\",\"2022-08-14\",\"2022-08-15\",\"2022-08-16\",\"2022-08-17\",\"2022-08-18\",\"2022-08-19\",\"2022-08-20\",\"2022-08-21\",\"2022-08-22\"],\"y\":[2,4,5,4,9,2,3,0,7,3,3,4,4,2,5,0,8,6,0,2,4,4,0,1,0,4,3,1,3,3,4],\"type\":\"bar\"}],                        {\"template\":{\"data\":{\"bar\":[{\"error_x\":{\"color\":\"#2a3f5f\"},\"error_y\":{\"color\":\"#2a3f5f\"},\"marker\":{\"line\":{\"color\":\"#E5ECF6\",\"width\":0.5},\"pattern\":{\"fillmode\":\"overlay\",\"size\":10,\"solidity\":0.2}},\"type\":\"bar\"}],\"barpolar\":[{\"marker\":{\"line\":{\"color\":\"#E5ECF6\",\"width\":0.5},\"pattern\":{\"fillmode\":\"overlay\",\"size\":10,\"solidity\":0.2}},\"type\":\"barpolar\"}],\"carpet\":[{\"aaxis\":{\"endlinecolor\":\"#2a3f5f\",\"gridcolor\":\"white\",\"linecolor\":\"white\",\"minorgridcolor\":\"white\",\"startlinecolor\":\"#2a3f5f\"},\"baxis\":{\"endlinecolor\":\"#2a3f5f\",\"gridcolor\":\"white\",\"linecolor\":\"white\",\"minorgridcolor\":\"white\",\"startlinecolor\":\"#2a3f5f\"},\"type\":\"carpet\"}],\"choropleth\":[{\"colorbar\":{\"outlinewidth\":0,\"ticks\":\"\"},\"type\":\"choropleth\"}],\"contour\":[{\"colorbar\":{\"outlinewidth\":0,\"ticks\":\"\"},\"colorscale\":[[0.0,\"#0d0887\"],[0.1111111111111111,\"#46039f\"],[0.2222222222222222,\"#7201a8\"],[0.3333333333333333,\"#9c179e\"],[0.4444444444444444,\"#bd3786\"],[0.5555555555555556,\"#d8576b\"],[0.6666666666666666,\"#ed7953\"],[0.7777777777777778,\"#fb9f3a\"],[0.8888888888888888,\"#fdca26\"],[1.0,\"#f0f921\"]],\"type\":\"contour\"}],\"contourcarpet\":[{\"colorbar\":{\"outlinewidth\":0,\"ticks\":\"\"},\"type\":\"contourcarpet\"}],\"heatmap\":[{\"colorbar\":{\"outlinewidth\":0,\"ticks\":\"\"},\"colorscale\":[[0.0,\"#0d0887\"],[0.1111111111111111,\"#46039f\"],[0.2222222222222222,\"#7201a8\"],[0.3333333333333333,\"#9c179e\"],[0.4444444444444444,\"#bd3786\"],[0.5555555555555556,\"#d8576b\"],[0.6666666666666666,\"#ed7953\"],[0.7777777777777778,\"#fb9f3a\"],[0.8888888888888888,\"#fdca26\"],[1.0,\"#f0f921\"]],\"type\":\"heatmap\"}],\"heatmapgl\":[{\"colorbar\":{\"outlinewidth\":0,\"ticks\":\"\"},\"colorscale\":[[0.0,\"#0d0887\"],[0.1111111111111111,\"#46039f\"],[0.2222222222222222,\"#7201a8\"],[0.3333333333333333,\"#9c179e\"],[0.4444444444444444,\"#bd3786\"],[0.5555555555555556,\"#d8576b\"],[0.6666666666666666,\"#ed7953\"],[0.7777777777777778,\"#fb9f3a\"],[0.8888888888888888,\"#fdca26\"],[1.0,\"#f0f921\"]],\"type\":\"heatmapgl\"}],\"histogram\":[{\"marker\":{\"pattern\":{\"fillmode\":\"overlay\",\"size\":10,\"solidity\":0.2}},\"type\":\"histogram\"}],\"histogram2d\":[{\"colorbar\":{\"outlinewidth\":0,\"ticks\":\"\"},\"colorscale\":[[0.0,\"#0d0887\"],[0.1111111111111111,\"#46039f\"],[0.2222222222222222,\"#7201a8\"],[0.3333333333333333,\"#9c179e\"],[0.4444444444444444,\"#bd3786\"],[0.5555555555555556,\"#d8576b\"],[0.6666666666666666,\"#ed7953\"],[0.7777777777777778,\"#fb9f3a\"],[0.8888888888888888,\"#fdca26\"],[1.0,\"#f0f921\"]],\"type\":\"histogram2d\"}],\"histogram2dcontour\":[{\"colorbar\":{\"outlinewidth\":0,\"ticks\":\"\"},\"colorscale\":[[0.0,\"#0d0887\"],[0.1111111111111111,\"#46039f\"],[0.2222222222222222,\"#7201a8\"],[0.3333333333333333,\"#9c179e\"],[0.4444444444444444,\"#bd3786\"],[0.5555555555555556,\"#d8576b\"],[0.6666666666666666,\"#ed7953\"],[0.7777777777777778,\"#fb9f3a\"],[0.8888888888888888,\"#fdca26\"],[1.0,\"#f0f921\"]],\"type\":\"histogram2dcontour\"}],\"mesh3d\":[{\"colorbar\":{\"outlinewidth\":0,\"ticks\":\"\"},\"type\":\"mesh3d\"}],\"parcoords\":[{\"line\":{\"colorbar\":{\"outlinewidth\":0,\"ticks\":\"\"}},\"type\":\"parcoords\"}],\"pie\":[{\"automargin\":true,\"type\":\"pie\"}],\"scatter\":[{\"marker\":{\"colorbar\":{\"outlinewidth\":0,\"ticks\":\"\"}},\"type\":\"scatter\"}],\"scatter3d\":[{\"line\":{\"colorbar\":{\"outlinewidth\":0,\"ticks\":\"\"}},\"marker\":{\"colorbar\":{\"outlinewidth\":0,\"ticks\":\"\"}},\"type\":\"scatter3d\"}],\"scattercarpet\":[{\"marker\":{\"colorbar\":{\"outlinewidth\":0,\"ticks\":\"\"}},\"type\":\"scattercarpet\"}],\"scattergeo\":[{\"marker\":{\"colorbar\":{\"outlinewidth\":0,\"ticks\":\"\"}},\"type\":\"scattergeo\"}],\"scattergl\":[{\"marker\":{\"colorbar\":{\"outlinewidth\":0,\"ticks\":\"\"}},\"type\":\"scattergl\"}],\"scattermapbox\":[{\"marker\":{\"colorbar\":{\"outlinewidth\":0,\"ticks\":\"\"}},\"type\":\"scattermapbox\"}],\"scatterpolar\":[{\"marker\":{\"colorbar\":{\"outlinewidth\":0,\"ticks\":\"\"}},\"type\":\"scatterpolar\"}],\"scatterpolargl\":[{\"marker\":{\"colorbar\":{\"outlinewidth\":0,\"ticks\":\"\"}},\"type\":\"scatterpolargl\"}],\"scatterternary\":[{\"marker\":{\"colorbar\":{\"outlinewidth\":0,\"ticks\":\"\"}},\"type\":\"scatterternary\"}],\"surface\":[{\"colorbar\":{\"outlinewidth\":0,\"ticks\":\"\"},\"colorscale\":[[0.0,\"#0d0887\"],[0.1111111111111111,\"#46039f\"],[0.2222222222222222,\"#7201a8\"],[0.3333333333333333,\"#9c179e\"],[0.4444444444444444,\"#bd3786\"],[0.5555555555555556,\"#d8576b\"],[0.6666666666666666,\"#ed7953\"],[0.7777777777777778,\"#fb9f3a\"],[0.8888888888888888,\"#fdca26\"],[1.0,\"#f0f921\"]],\"type\":\"surface\"}],\"table\":[{\"cells\":{\"fill\":{\"color\":\"#EBF0F8\"},\"line\":{\"color\":\"white\"}},\"header\":{\"fill\":{\"color\":\"#C8D4E3\"},\"line\":{\"color\":\"white\"}},\"type\":\"table\"}]},\"layout\":{\"annotationdefaults\":{\"arrowcolor\":\"#2a3f5f\",\"arrowhead\":0,\"arrowwidth\":1},\"autotypenumbers\":\"strict\",\"coloraxis\":{\"colorbar\":{\"outlinewidth\":0,\"ticks\":\"\"}},\"colorscale\":{\"diverging\":[[0,\"#8e0152\"],[0.1,\"#c51b7d\"],[0.2,\"#de77ae\"],[0.3,\"#f1b6da\"],[0.4,\"#fde0ef\"],[0.5,\"#f7f7f7\"],[0.6,\"#e6f5d0\"],[0.7,\"#b8e186\"],[0.8,\"#7fbc41\"],[0.9,\"#4d9221\"],[1,\"#276419\"]],\"sequential\":[[0.0,\"#0d0887\"],[0.1111111111111111,\"#46039f\"],[0.2222222222222222,\"#7201a8\"],[0.3333333333333333,\"#9c179e\"],[0.4444444444444444,\"#bd3786\"],[0.5555555555555556,\"#d8576b\"],[0.6666666666666666,\"#ed7953\"],[0.7777777777777778,\"#fb9f3a\"],[0.8888888888888888,\"#fdca26\"],[1.0,\"#f0f921\"]],\"sequentialminus\":[[0.0,\"#0d0887\"],[0.1111111111111111,\"#46039f\"],[0.2222222222222222,\"#7201a8\"],[0.3333333333333333,\"#9c179e\"],[0.4444444444444444,\"#bd3786\"],[0.5555555555555556,\"#d8576b\"],[0.6666666666666666,\"#ed7953\"],[0.7777777777777778,\"#fb9f3a\"],[0.8888888888888888,\"#fdca26\"],[1.0,\"#f0f921\"]]},\"colorway\":[\"#636efa\",\"#EF553B\",\"#00cc96\",\"#ab63fa\",\"#FFA15A\",\"#19d3f3\",\"#FF6692\",\"#B6E880\",\"#FF97FF\",\"#FECB52\"],\"font\":{\"color\":\"#2a3f5f\"},\"geo\":{\"bgcolor\":\"white\",\"lakecolor\":\"white\",\"landcolor\":\"#E5ECF6\",\"showlakes\":true,\"showland\":true,\"subunitcolor\":\"white\"},\"hoverlabel\":{\"align\":\"left\"},\"hovermode\":\"closest\",\"mapbox\":{\"style\":\"light\"},\"paper_bgcolor\":\"white\",\"plot_bgcolor\":\"#E5ECF6\",\"polar\":{\"angularaxis\":{\"gridcolor\":\"white\",\"linecolor\":\"white\",\"ticks\":\"\"},\"bgcolor\":\"#E5ECF6\",\"radialaxis\":{\"gridcolor\":\"white\",\"linecolor\":\"white\",\"ticks\":\"\"}},\"scene\":{\"xaxis\":{\"backgroundcolor\":\"#E5ECF6\",\"gridcolor\":\"white\",\"gridwidth\":2,\"linecolor\":\"white\",\"showbackground\":true,\"ticks\":\"\",\"zerolinecolor\":\"white\"},\"yaxis\":{\"backgroundcolor\":\"#E5ECF6\",\"gridcolor\":\"white\",\"gridwidth\":2,\"linecolor\":\"white\",\"showbackground\":true,\"ticks\":\"\",\"zerolinecolor\":\"white\"},\"zaxis\":{\"backgroundcolor\":\"#E5ECF6\",\"gridcolor\":\"white\",\"gridwidth\":2,\"linecolor\":\"white\",\"showbackground\":true,\"ticks\":\"\",\"zerolinecolor\":\"white\"}},\"shapedefaults\":{\"line\":{\"color\":\"#2a3f5f\"}},\"ternary\":{\"aaxis\":{\"gridcolor\":\"white\",\"linecolor\":\"white\",\"ticks\":\"\"},\"baxis\":{\"gridcolor\":\"white\",\"linecolor\":\"white\",\"ticks\":\"\"},\"bgcolor\":\"#E5ECF6\",\"caxis\":{\"gridcolor\":\"white\",\"linecolor\":\"white\",\"ticks\":\"\"}},\"title\":{\"x\":0.05},\"xaxis\":{\"automargin\":true,\"gridcolor\":\"white\",\"linecolor\":\"white\",\"ticks\":\"\",\"title\":{\"standoff\":15},\"zerolinecolor\":\"white\",\"zerolinewidth\":2},\"yaxis\":{\"automargin\":true,\"gridcolor\":\"white\",\"linecolor\":\"white\",\"ticks\":\"\",\"title\":{\"standoff\":15},\"zerolinecolor\":\"white\",\"zerolinewidth\":2}}}},                        {\"responsive\": true}                    ).then(function(){\n",
       "                            \n",
       "var gd = document.getElementById('ce46bd06-5486-45dd-9255-c5837cb7cc9d');\n",
       "var x = new MutationObserver(function (mutations, observer) {{\n",
       "        var display = window.getComputedStyle(gd).display;\n",
       "        if (!display || display === 'none') {{\n",
       "            console.log([gd, 'removed!']);\n",
       "            Plotly.purge(gd);\n",
       "            observer.disconnect();\n",
       "        }}\n",
       "}});\n",
       "\n",
       "// Listen for the removal of the full notebook cells\n",
       "var notebookContainer = gd.closest('#notebook-container');\n",
       "if (notebookContainer) {{\n",
       "    x.observe(notebookContainer, {childList: true});\n",
       "}}\n",
       "\n",
       "// Listen for the clearing of the current output cell\n",
       "var outputEl = gd.closest('.output');\n",
       "if (outputEl) {{\n",
       "    x.observe(outputEl, {childList: true});\n",
       "}}\n",
       "\n",
       "                        })                };                });            </script>        </div>"
      ]
     },
     "metadata": {},
     "output_type": "display_data"
    }
   ],
   "source": [
    "fig = go.Figure()\n",
    "fig.add_trace(go.Bar(\n",
    "    x=games_df['Date'],\n",
    "    y=games_df['Less_2'],\n",
    "    name='Less Than Two Out Hits',\n",
    "    marker_color='#1f77b4'\n",
    "))\n",
    "fig.add_trace(go.Bar(\n",
    "    x=games_df['Date'],\n",
    "    y=games_df['Equal_2'],\n",
    "    name='Two Out Hits',\n",
    "    marker_color='#2ca02c'\n",
    "))\n",
    "fig.add_trace(go.Bar(\n",
    "    x=games_df['Date'],\n",
    "    y=games_df['Players_On'],\n",
    "    name='Players On',\n",
    "    marker_color='#8c564b'\n",
    "))\n"
   ]
  },
  {
   "cell_type": "markdown",
   "id": "588f1d34-91eb-4628-99b2-232b8255e3b6",
   "metadata": {},
   "source": [
    "## There is clearly a reason why the stats guys make more money than us fans."
   ]
  }
 ],
 "metadata": {
  "kernelspec": {
   "display_name": "Python 3 (ipykernel)",
   "language": "python",
   "name": "python3"
  },
  "language_info": {
   "codemirror_mode": {
    "name": "ipython",
    "version": 3
   },
   "file_extension": ".py",
   "mimetype": "text/x-python",
   "name": "python",
   "nbconvert_exporter": "python",
   "pygments_lexer": "ipython3",
   "version": "3.8.12"
  }
 },
 "nbformat": 4,
 "nbformat_minor": 5
}
